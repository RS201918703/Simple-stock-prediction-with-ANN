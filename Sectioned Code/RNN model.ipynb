{
 "cells": [
  {
   "cell_type": "code",
   "execution_count": 1,
   "id": "7688cc56",
   "metadata": {},
   "outputs": [],
   "source": [
    "import pandas as pd\n",
    "import numpy as np\n",
    "import matplotlib.pyplot as plt"
   ]
  },
  {
   "cell_type": "code",
   "execution_count": 2,
   "id": "1785ad25",
   "metadata": {},
   "outputs": [
    {
     "data": {
      "text/plain": [
       "2382"
      ]
     },
     "execution_count": 2,
     "metadata": {},
     "output_type": "execute_result"
    }
   ],
   "source": [
    "url = 'FB.csv'\n",
    "meta = pd.read_csv(url)\n",
    "meta = meta.dropna(how='any',axis=0) #If there is missing data\n",
    "meta['Date'].apply(pd.to_datetime) #For ease of adjusting dates later on\n",
    "len(meta.index)"
   ]
  },
  {
   "cell_type": "code",
   "execution_count": 3,
   "id": "6491497c",
   "metadata": {},
   "outputs": [],
   "source": [
    "meta = meta[['Close'] + [col for col in meta if col not in ['Adj Close', 'Close']] + ['Adj Close']]"
   ]
  },
  {
   "cell_type": "code",
   "execution_count": 4,
   "id": "f3821c69",
   "metadata": {},
   "outputs": [
    {
     "data": {
      "text/html": [
       "<div>\n",
       "<style scoped>\n",
       "    .dataframe tbody tr th:only-of-type {\n",
       "        vertical-align: middle;\n",
       "    }\n",
       "\n",
       "    .dataframe tbody tr th {\n",
       "        vertical-align: top;\n",
       "    }\n",
       "\n",
       "    .dataframe thead th {\n",
       "        text-align: right;\n",
       "    }\n",
       "</style>\n",
       "<table border=\"1\" class=\"dataframe\">\n",
       "  <thead>\n",
       "    <tr style=\"text-align: right;\">\n",
       "      <th></th>\n",
       "      <th>Close</th>\n",
       "      <th>Date</th>\n",
       "      <th>Open</th>\n",
       "      <th>High</th>\n",
       "      <th>Low</th>\n",
       "      <th>Volume</th>\n",
       "      <th>Adj Close</th>\n",
       "    </tr>\n",
       "  </thead>\n",
       "  <tbody>\n",
       "    <tr>\n",
       "      <th>0</th>\n",
       "      <td>38.230000</td>\n",
       "      <td>2012-05-18</td>\n",
       "      <td>42.049999</td>\n",
       "      <td>45.000000</td>\n",
       "      <td>38.000000</td>\n",
       "      <td>573576400</td>\n",
       "      <td>38.230000</td>\n",
       "    </tr>\n",
       "    <tr>\n",
       "      <th>1</th>\n",
       "      <td>34.029999</td>\n",
       "      <td>2012-05-21</td>\n",
       "      <td>36.529999</td>\n",
       "      <td>36.660000</td>\n",
       "      <td>33.000000</td>\n",
       "      <td>168192700</td>\n",
       "      <td>34.029999</td>\n",
       "    </tr>\n",
       "    <tr>\n",
       "      <th>2</th>\n",
       "      <td>31.000000</td>\n",
       "      <td>2012-05-22</td>\n",
       "      <td>32.610001</td>\n",
       "      <td>33.590000</td>\n",
       "      <td>30.940001</td>\n",
       "      <td>101786600</td>\n",
       "      <td>31.000000</td>\n",
       "    </tr>\n",
       "    <tr>\n",
       "      <th>3</th>\n",
       "      <td>32.000000</td>\n",
       "      <td>2012-05-23</td>\n",
       "      <td>31.370001</td>\n",
       "      <td>32.500000</td>\n",
       "      <td>31.360001</td>\n",
       "      <td>73600000</td>\n",
       "      <td>32.000000</td>\n",
       "    </tr>\n",
       "    <tr>\n",
       "      <th>4</th>\n",
       "      <td>33.029999</td>\n",
       "      <td>2012-05-24</td>\n",
       "      <td>32.950001</td>\n",
       "      <td>33.209999</td>\n",
       "      <td>31.770000</td>\n",
       "      <td>50237200</td>\n",
       "      <td>33.029999</td>\n",
       "    </tr>\n",
       "  </tbody>\n",
       "</table>\n",
       "</div>"
      ],
      "text/plain": [
       "       Close        Date       Open       High        Low     Volume  \\\n",
       "0  38.230000  2012-05-18  42.049999  45.000000  38.000000  573576400   \n",
       "1  34.029999  2012-05-21  36.529999  36.660000  33.000000  168192700   \n",
       "2  31.000000  2012-05-22  32.610001  33.590000  30.940001  101786600   \n",
       "3  32.000000  2012-05-23  31.370001  32.500000  31.360001   73600000   \n",
       "4  33.029999  2012-05-24  32.950001  33.209999  31.770000   50237200   \n",
       "\n",
       "   Adj Close  \n",
       "0  38.230000  \n",
       "1  34.029999  \n",
       "2  31.000000  \n",
       "3  32.000000  \n",
       "4  33.029999  "
      ]
     },
     "execution_count": 4,
     "metadata": {},
     "output_type": "execute_result"
    }
   ],
   "source": [
    "meta = meta.sort_values('Date')\n",
    "meta.head()"
   ]
  },
  {
   "cell_type": "code",
   "execution_count": 5,
   "id": "f2df0f5b",
   "metadata": {},
   "outputs": [],
   "source": [
    "#Method 1"
   ]
  },
  {
   "cell_type": "code",
   "execution_count": 6,
   "id": "2948e413",
   "metadata": {},
   "outputs": [],
   "source": [
    "#RNN model\n",
    "import torch.nn as nn\n",
    "\n",
    "class RNN(nn.Module):\n",
    "    def __init__(self, num_inputs, hidden_dims, layer_dims, num_outputs):\n",
    "        super(RNN, self).__init__()\n",
    "        self.hidden_dims = hidden_dims #Numer of features in the hidden state\n",
    "        self.layer_dims = layer_dims #Number of recurrent layers\n",
    "        self.rnn = nn.RNN(num_inputs, hidden_dim, layer_dim, batch_first = True)\n",
    "        self.fc = nn.Linear(hidden_dim, num_outputs)\n",
    "        \n",
    "    def forward(self, X):\n",
    "        h_0 = torch.zeros(self.layer_dim, X.size(0), self.hidden_dim).requires_grad_()\n",
    "        out, h_0 = self.rnn(X, h_0.detach())\n",
    "        out = out[:,-1,:]\n",
    "        out.self.fc(out)\n",
    "        return out"
   ]
  },
  {
   "cell_type": "code",
   "execution_count": 7,
   "id": "a3ea1ed3",
   "metadata": {},
   "outputs": [],
   "source": [
    "#RNN model\n",
    "num_input, hidden_dim, layer_dim, num_output = 14, 15, 2, 1\n",
    "rnn_model = RNN(num_input, hidden_dim, layer_dim, num_output)"
   ]
  },
  {
   "cell_type": "code",
   "execution_count": 8,
   "id": "d6d37d71",
   "metadata": {},
   "outputs": [],
   "source": [
    "#Sliding window data\n",
    "def sliding_window(data, timeframe):\n",
    "    numpydata = data.to_numpy() \n",
    "    data = []\n",
    "\n",
    "    # create all possible sequences of length seq_len\n",
    "    for index in range(len(numpydata) - timeframe): \n",
    "        data.append(numpydata[index: index + timeframe])\n",
    "\n",
    "    return np.array(data)\n",
    "\n",
    "sw_meta = sliding_window(meta.iloc[:,0:1], 15)"
   ]
  },
  {
   "cell_type": "code",
   "execution_count": 9,
   "id": "f33752e4",
   "metadata": {},
   "outputs": [],
   "source": [
    "meta_data = pd.DataFrame(sw_meta.T.reshape(-1, 15))\n",
    "meta_data.columns = ['Day 1', 'Day 2', 'Day 3', 'Day 4', 'Day 5', 'Day 6', 'Day 7', 'Day 8', 'Day 9', 'Day 10', 'Day 11', 'Day 12', 'Day 13', 'Day 14', 'Target']\n",
    "meta_data = meta_data[['Target'] + [col for col in meta_data.columns if col != 'Target' ]]"
   ]
  },
  {
   "cell_type": "code",
   "execution_count": 10,
   "id": "a8422092",
   "metadata": {},
   "outputs": [],
   "source": [
    "from sklearn.model_selection import train_test_split\n",
    "\n",
    "def feature_label_split(dataframe, target):\n",
    "    y = dataframe.iloc[:,0:1]\n",
    "    X = dataframe.iloc[:,1:]\n",
    "    return X, y\n",
    "\n",
    "def train_val_test_split(dataframe, target, test_ratio):\n",
    "    val_ratio = test_ratio / (1 - test_ratio)\n",
    "    X, y = feature_label_split(dataframe, target)\n",
    "    X_train, X_test, y_train, y_test = train_test_split(X, y, test_size = test_ratio, shuffle = False)\n",
    "    X_train, X_val, y_train, y_val = train_test_split(X_train, y_train, test_size = val_ratio, shuffle = False)\n",
    "    return X_train, X_val, X_test, y_train, y_val, y_test"
   ]
  },
  {
   "cell_type": "code",
   "execution_count": 11,
   "id": "10100d59",
   "metadata": {},
   "outputs": [],
   "source": [
    "X_train, X_val, X_test, y_train, y_val, y_test = train_val_test_split(meta_data, 'Target', 0.2)"
   ]
  },
  {
   "cell_type": "code",
   "execution_count": 12,
   "id": "64f73be7",
   "metadata": {},
   "outputs": [],
   "source": [
    "#Scaling datasets\n",
    "from sklearn.preprocessing import MinMaxScaler\n",
    "\n",
    "scaler = MinMaxScaler()\n",
    "X_train_array = scaler.fit_transform(X_train)\n",
    "X_val_array = scaler.transform(X_val)\n",
    "X_test_array = scaler.transform(X_test)\n",
    "\n",
    "y_train_array = scaler.fit_transform(y_train)\n",
    "y_val_array = scaler.transform(y_val)\n",
    "y_test_array = scaler.transform(y_test)"
   ]
  },
  {
   "cell_type": "code",
   "execution_count": 13,
   "id": "e135a4b5",
   "metadata": {},
   "outputs": [],
   "source": [
    "import torch\n",
    "from torch.utils.data import TensorDataset\n",
    "\n",
    "train_feat = torch.Tensor(X_train_array)\n",
    "train_targ = torch.Tensor(y_train_array)\n",
    "val_feat = torch.Tensor(X_val_array)\n",
    "val_targ = torch.Tensor(y_val_array)\n",
    "test_feat = torch.Tensor(X_test_array)\n",
    "test_targ = torch.Tensor(y_test_array)\n",
    "\n",
    "training_set = TensorDataset(train_feat, train_targ)\n",
    "valid_set = TensorDataset(val_feat, val_targ)\n",
    "test_set = TensorDataset(test_feat, test_targ)"
   ]
  },
  {
   "cell_type": "code",
   "execution_count": 14,
   "id": "833077fc",
   "metadata": {},
   "outputs": [],
   "source": [
    "from torch.utils.data import DataLoader\n",
    "\n",
    "batch_size = 50\n",
    "train_dl = DataLoader(training_set, batch_size =  batch_size, drop_last = True)\n",
    "val_dl = DataLoader(valid_set, batch_size =  batch_size, drop_last = True)\n",
    "test_dl = DataLoader(test_set, batch_size =  batch_size, drop_last = True)"
   ]
  },
  {
   "cell_type": "code",
   "execution_count": 15,
   "id": "5873903d",
   "metadata": {},
   "outputs": [],
   "source": [
    "#Optimiser\n",
    "class Optimization():\n",
    "    def __init__(self, model, criterion, updater):\n",
    "        self.model = model\n",
    "        self.criterion = criterion\n",
    "        self.updater = updater\n",
    "        self.train_losses = []\n",
    "        self.valid_losses = []\n",
    "        \n",
    "        def training_step(self, inputs, labels):\n",
    "            self.model.train()\n",
    "            y_hat = self.model(inputs)\n",
    "            loss = self.criterion(labels, y_hat)\n",
    "            loss.backward()\n",
    "            self.updater.step()\n",
    "            self.updater.zero_grad()\n",
    "            return loss.item()"
   ]
  },
  {
   "cell_type": "code",
   "execution_count": 16,
   "id": "5c0465d5",
   "metadata": {},
   "outputs": [],
   "source": [
    "#Training the model\n",
    "def RNN_model_trainer(self, train_dataloader, val_dataloader, batch_size, num_epochs, num_features):\n",
    "    for epoch in range(1, num_epochs + 1):\n",
    "        batch_loss = []\n",
    "        for train_inputs, train_labels in train_loader:\n",
    "            train_inputs = train_inputs.view([batch_size, -1, num_features]).to(device)\n",
    "            train_labels = train_labels.to(device)\n",
    "            loss = self.training_step(train_inputs, train_labels)\n",
    "            batch_loss.append(loss)\n",
    "            training_loss = np.mean(batch_loss)\n",
    "            self.train_losses.append(training_loss)\n",
    "            \n",
    "            with torch.no_grad():\n",
    "                batch_val_loss = []\n",
    "                for val_inputs, val_labels in val_loader:\n",
    "                    val_inputs = val_inputs.view([batch_size, -1, num_features]).to(device)\n",
    "                    val_labels = val_labels.to(device)\n",
    "                    self.model.eval()\n",
    "                    y_hat = self.model(val_inputs)\n",
    "                    val_loss = criterion(val_labels, y_hat).item()\n",
    "                    batch_val_loss.append(val_loss)\n",
    "                validation_loss = np.mean(batch_val_loss)\n",
    "                self.valid_losses.append(validation_loss)"
   ]
  },
  {
   "cell_type": "code",
   "execution_count": 17,
   "id": "47cf8fdb",
   "metadata": {},
   "outputs": [],
   "source": [
    "lr, num_epochs = 0.2, 60\n",
    "criterion_3 = nn.MSELoss()\n",
    "updater_3 = torch.optim.SGD(rnn_model.parameters(), lr = lr)"
   ]
  },
  {
   "cell_type": "code",
   "execution_count": 18,
   "id": "c40a4963",
   "metadata": {},
   "outputs": [
    {
     "ename": "AttributeError",
     "evalue": "'Optimization' object has no attribute 'RNN_model_trainer'",
     "output_type": "error",
     "traceback": [
      "\u001b[1;31m---------------------------------------------------------------------------\u001b[0m",
      "\u001b[1;31mAttributeError\u001b[0m                            Traceback (most recent call last)",
      "Input \u001b[1;32mIn [18]\u001b[0m, in \u001b[0;36m<cell line: 4>\u001b[1;34m()\u001b[0m\n\u001b[0;32m      1\u001b[0m \u001b[38;5;28;01mfrom\u001b[39;00m \u001b[38;5;21;01mdatetime\u001b[39;00m \u001b[38;5;28;01mimport\u001b[39;00m datetime\n\u001b[0;32m      3\u001b[0m opt \u001b[38;5;241m=\u001b[39m Optimization(model \u001b[38;5;241m=\u001b[39m rnn_model, criterion \u001b[38;5;241m=\u001b[39m criterion_3, updater \u001b[38;5;241m=\u001b[39m updater_3)\n\u001b[1;32m----> 4\u001b[0m \u001b[43mopt\u001b[49m\u001b[38;5;241;43m.\u001b[39;49m\u001b[43mRNN_model_trainer\u001b[49m(train_dataloader \u001b[38;5;241m=\u001b[39m train_dl, val_dataloader \u001b[38;5;241m=\u001b[39m val_dl, batch_size \u001b[38;5;241m=\u001b[39m \u001b[38;5;241m50\u001b[39m, num_epochs \u001b[38;5;241m=\u001b[39m num_epochs, num_features \u001b[38;5;241m=\u001b[39m num_input)\n",
      "\u001b[1;31mAttributeError\u001b[0m: 'Optimization' object has no attribute 'RNN_model_trainer'"
     ]
    }
   ],
   "source": [
    "from datetime import datetime\n",
    "\n",
    "opt = Optimization(model = rnn_model, criterion = criterion_3, updater = updater_3)\n",
    "opt.RNN_model_trainer(train_dataloader = train_dl, val_dataloader = val_dl, batch_size = 50, num_epochs = num_epochs, num_features = num_input)"
   ]
  },
  {
   "cell_type": "code",
   "execution_count": null,
   "id": "394967c8",
   "metadata": {},
   "outputs": [],
   "source": [
    "#Method 2"
   ]
  }
 ],
 "metadata": {
  "kernelspec": {
   "display_name": "Python 3 (ipykernel)",
   "language": "python",
   "name": "python3"
  },
  "language_info": {
   "codemirror_mode": {
    "name": "ipython",
    "version": 3
   },
   "file_extension": ".py",
   "mimetype": "text/x-python",
   "name": "python",
   "nbconvert_exporter": "python",
   "pygments_lexer": "ipython3",
   "version": "3.8.12"
  }
 },
 "nbformat": 4,
 "nbformat_minor": 5
}
